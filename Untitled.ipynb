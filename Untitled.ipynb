{
 "cells": [
  {
   "cell_type": "markdown",
   "metadata": {},
   "source": [
    "## 数据导入"
   ]
  },
  {
   "cell_type": "code",
   "execution_count": 30,
   "metadata": {},
   "outputs": [
    {
     "data": {
      "text/plain": [
       "([7, 6, 5, 4, 2, 1], ['g', 'f', 'e', 'd', 'b', 'a'])"
      ]
     },
     "execution_count": 30,
     "metadata": {},
     "output_type": "execute_result"
    }
   ],
   "source": [
    "def quick_sort(array, array2):\n",
    "    length = len(array)\n",
    "    if length <= 1:\n",
    "        return array, array2\n",
    "    key = array[0]\n",
    "    key2 = array2[0]\n",
    "    ii = 0\n",
    "    jj = length-1\n",
    "    while True:\n",
    "        for jj in range(jj,ii-1,-1):\n",
    "            if array[jj] > key:\n",
    "                array[ii], array[jj] = (array[jj], array[ii])\n",
    "                array2[ii], array2[jj] = (array2[jj], array2[ii])\n",
    "                break\n",
    "        if ii == jj:\n",
    "            break\n",
    "        \n",
    "        for ii in range(ii,jj+1):\n",
    "            if array[ii] < key:\n",
    "                (array[ii], array[jj]) = (array[jj], array[ii])\n",
    "                array2[ii], array2[jj] = (array2[jj], array2[ii])\n",
    "                break\n",
    "        if ii == jj:\n",
    "            break\n",
    "    pre = quick_sort(array[:ii],array2[:ii])\n",
    "    post = quick_sort(array[ii+1:],array2[ii+1:])\n",
    "    return pre[0]+ [key] + post[0], pre[1] + [key2] + post[1]\n",
    "\n",
    "a = ['a','d','f','b','g','e']\n",
    "b = [1,4,6,2,7,5]\n",
    "quick_sort(b,a)"
   ]
  },
  {
   "cell_type": "code",
   "execution_count": 31,
   "metadata": {},
   "outputs": [
    {
     "data": {
      "text/plain": [
       "'aaaaa'"
      ]
     },
     "execution_count": 31,
     "metadata": {},
     "output_type": "execute_result"
    }
   ],
   "source": [
    "'a'*5"
   ]
  },
  {
   "cell_type": "code",
   "execution_count": null,
   "metadata": {
    "collapsed": true
   },
   "outputs": [],
   "source": []
  }
 ],
 "metadata": {
  "kernelspec": {
   "display_name": "Python 3",
   "language": "python",
   "name": "python3"
  },
  "language_info": {
   "codemirror_mode": {
    "name": "ipython",
    "version": 3
   },
   "file_extension": ".py",
   "mimetype": "text/x-python",
   "name": "python",
   "nbconvert_exporter": "python",
   "pygments_lexer": "ipython3",
   "version": "3.6.3"
  }
 },
 "nbformat": 4,
 "nbformat_minor": 2
}
